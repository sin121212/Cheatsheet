{
 "cells": [
  {
   "cell_type": "markdown",
   "metadata": {},
   "source": [
    "# Pandas"
   ]
  },
  {
   "cell_type": "code",
   "execution_count": 1,
   "metadata": {},
   "outputs": [],
   "source": [
    "import pandas as pd\n",
    "import numpy as np"
   ]
  },
  {
   "cell_type": "code",
   "execution_count": 2,
   "metadata": {},
   "outputs": [],
   "source": [
    "# record script running time\n",
    "from time import time\n",
    "    \n",
    "start_run_time = time()\n",
    "time_taken = time() - start_run_time"
   ]
  },
  {
   "cell_type": "markdown",
   "metadata": {},
   "source": [
    "# 1. Data Preparation\n",
    "\n",
    "## 1.1. Create Demo DataFrame with 3 Data Type\n",
    "\n",
    "1. Datetime\n",
    "2. Numeric\n",
    "3. Category"
   ]
  },
  {
   "cell_type": "code",
   "execution_count": 3,
   "metadata": {},
   "outputs": [],
   "source": [
    "def random_df(seed,nrow):\n",
    "\n",
    "    np.random.seed(seed)\n",
    "    \n",
    "    # datetime (freq = day)\n",
    "    def random_date(start,end):\n",
    "    \n",
    "        min_date = pd.to_datetime(start)\n",
    "        max_date = pd.to_datetime(end)\n",
    "        \n",
    "        d = (max_date - min_date).days + 1\n",
    "        \n",
    "        date = min_date + pd.to_timedelta(np.random.randint(d,size=nrow),unit='d')\n",
    "    \n",
    "        return date\n",
    "    \n",
    "    date_col = random_date(start='2018-01-01',end='2020-12-31')\n",
    "    \n",
    "    \n",
    "    # numeric (with na)\n",
    "    # following normal distribution having mean 'loc' and standard deviation 'scale'\n",
    "    income = np.random.normal(loc=50000,scale=15000,size=nrow)\n",
    "    gen_na = np.random.choice([1, 0], income.shape, p=[0.1, 0.9]).astype(bool)\n",
    "    income[gen_na] = np.nan\n",
    "    \n",
    "    \n",
    "    # random values between low and high.\n",
    "    age = np.random.randint(low=1, high=100, size=nrow)\n",
    "    \n",
    "    # category\n",
    "    insurance_type = np.random.choice([' OP ',' INP','TR','   '], nrow, replace=True,p=[0.4, 0.3, 0.2,0.1])\n",
    "    \n",
    "    _df_ = pd.DataFrame({'insurance_type'  : insurance_type,\n",
    "                         'date' : date_col,\n",
    "                         'age' : age,\n",
    "                         'income' : income})\n",
    "    \n",
    "    return _df_"
   ]
  },
  {
   "cell_type": "code",
   "execution_count": 4,
   "metadata": {},
   "outputs": [
    {
     "name": "stdout",
     "output_type": "stream",
     "text": [
      "<class 'pandas.core.frame.DataFrame'>\n",
      "RangeIndex: 50 entries, 0 to 49\n",
      "Data columns (total 4 columns):\n",
      " #   Column          Non-Null Count  Dtype         \n",
      "---  ------          --------------  -----         \n",
      " 0   insurance_type  50 non-null     object        \n",
      " 1   date            50 non-null     datetime64[ns]\n",
      " 2   age             50 non-null     int32         \n",
      " 3   income          43 non-null     float64       \n",
      "dtypes: datetime64[ns](1), float64(1), int32(1), object(1)\n",
      "memory usage: 1.5+ KB\n",
      "None\n"
     ]
    }
   ],
   "source": [
    "df = random_df(seed=123,nrow=50)\n",
    "\n",
    "print(df.info())"
   ]
  },
  {
   "cell_type": "markdown",
   "metadata": {},
   "source": [
    "#### First 10 row of dataframe"
   ]
  },
  {
   "cell_type": "code",
   "execution_count": 5,
   "metadata": {},
   "outputs": [
    {
     "data": {
      "text/html": [
       "<div>\n",
       "<style scoped>\n",
       "    .dataframe tbody tr th:only-of-type {\n",
       "        vertical-align: middle;\n",
       "    }\n",
       "\n",
       "    .dataframe tbody tr th {\n",
       "        vertical-align: top;\n",
       "    }\n",
       "\n",
       "    .dataframe thead th {\n",
       "        text-align: right;\n",
       "    }\n",
       "</style>\n",
       "<table border=\"1\" class=\"dataframe\">\n",
       "  <thead>\n",
       "    <tr style=\"text-align: right;\">\n",
       "      <th></th>\n",
       "      <th>insurance_type</th>\n",
       "      <th>date</th>\n",
       "      <th>age</th>\n",
       "      <th>income</th>\n",
       "    </tr>\n",
       "  </thead>\n",
       "  <tbody>\n",
       "    <tr>\n",
       "      <th>0</th>\n",
       "      <td>OP</td>\n",
       "      <td>2020-11-07</td>\n",
       "      <td>98</td>\n",
       "      <td>NaN</td>\n",
       "    </tr>\n",
       "    <tr>\n",
       "      <th>1</th>\n",
       "      <td>INP</td>\n",
       "      <td>2018-04-17</td>\n",
       "      <td>40</td>\n",
       "      <td>33798.199209</td>\n",
       "    </tr>\n",
       "    <tr>\n",
       "      <th>2</th>\n",
       "      <td>TR</td>\n",
       "      <td>2018-04-07</td>\n",
       "      <td>83</td>\n",
       "      <td>44105.435919</td>\n",
       "    </tr>\n",
       "    <tr>\n",
       "      <th>3</th>\n",
       "      <td>INP</td>\n",
       "      <td>2018-04-24</td>\n",
       "      <td>93</td>\n",
       "      <td>59376.859539</td>\n",
       "    </tr>\n",
       "    <tr>\n",
       "      <th>4</th>\n",
       "      <td></td>\n",
       "      <td>2019-10-01</td>\n",
       "      <td>39</td>\n",
       "      <td>24426.992678</td>\n",
       "    </tr>\n",
       "    <tr>\n",
       "      <th>5</th>\n",
       "      <td>OP</td>\n",
       "      <td>2018-02-17</td>\n",
       "      <td>6</td>\n",
       "      <td>45226.600720</td>\n",
       "    </tr>\n",
       "    <tr>\n",
       "      <th>6</th>\n",
       "      <td>INP</td>\n",
       "      <td>2018-03-15</td>\n",
       "      <td>10</td>\n",
       "      <td>42375.490333</td>\n",
       "    </tr>\n",
       "    <tr>\n",
       "      <th>7</th>\n",
       "      <td></td>\n",
       "      <td>2020-07-31</td>\n",
       "      <td>41</td>\n",
       "      <td>61198.372674</td>\n",
       "    </tr>\n",
       "    <tr>\n",
       "      <th>8</th>\n",
       "      <td>OP</td>\n",
       "      <td>2018-08-13</td>\n",
       "      <td>69</td>\n",
       "      <td>30464.852872</td>\n",
       "    </tr>\n",
       "    <tr>\n",
       "      <th>9</th>\n",
       "      <td>OP</td>\n",
       "      <td>2018-04-22</td>\n",
       "      <td>88</td>\n",
       "      <td>51809.046069</td>\n",
       "    </tr>\n",
       "  </tbody>\n",
       "</table>\n",
       "</div>"
      ],
      "text/plain": [
       "  insurance_type       date  age        income\n",
       "0            OP  2020-11-07   98           NaN\n",
       "1            INP 2018-04-17   40  33798.199209\n",
       "2             TR 2018-04-07   83  44105.435919\n",
       "3            INP 2018-04-24   93  59376.859539\n",
       "4                2019-10-01   39  24426.992678\n",
       "5            OP  2018-02-17    6  45226.600720\n",
       "6            INP 2018-03-15   10  42375.490333\n",
       "7                2020-07-31   41  61198.372674\n",
       "8            OP  2018-08-13   69  30464.852872\n",
       "9            OP  2018-04-22   88  51809.046069"
      ]
     },
     "execution_count": 5,
     "metadata": {},
     "output_type": "execute_result"
    }
   ],
   "source": [
    "df.head(10)"
   ]
  },
  {
   "cell_type": "markdown",
   "metadata": {},
   "source": [
    "## 1.2. Dictionary as DataFrame"
   ]
  },
  {
   "cell_type": "code",
   "execution_count": 6,
   "metadata": {},
   "outputs": [
    {
     "name": "stdout",
     "output_type": "stream",
     "text": [
      "{0: {'name': 'Cara', 'age': 25}, 1: {'name': 'ABC', 'age': 40}}\n"
     ]
    }
   ],
   "source": [
    "Dict = { } \n",
    "\n",
    "i = 0\n",
    "\n",
    "Dict[i],i = {'name': 'Cara', 'age': 25}, i+1\n",
    "Dict[i],i = {'name': 'ABC', 'age': 40} , i+1\n",
    "\n",
    "print(Dict) "
   ]
  },
  {
   "cell_type": "code",
   "execution_count": 7,
   "metadata": {
    "scrolled": true
   },
   "outputs": [
    {
     "data": {
      "text/html": [
       "<div>\n",
       "<style scoped>\n",
       "    .dataframe tbody tr th:only-of-type {\n",
       "        vertical-align: middle;\n",
       "    }\n",
       "\n",
       "    .dataframe tbody tr th {\n",
       "        vertical-align: top;\n",
       "    }\n",
       "\n",
       "    .dataframe thead th {\n",
       "        text-align: right;\n",
       "    }\n",
       "</style>\n",
       "<table border=\"1\" class=\"dataframe\">\n",
       "  <thead>\n",
       "    <tr style=\"text-align: right;\">\n",
       "      <th></th>\n",
       "      <th>name</th>\n",
       "      <th>age</th>\n",
       "    </tr>\n",
       "  </thead>\n",
       "  <tbody>\n",
       "    <tr>\n",
       "      <th>0</th>\n",
       "      <td>Cara</td>\n",
       "      <td>25</td>\n",
       "    </tr>\n",
       "    <tr>\n",
       "      <th>1</th>\n",
       "      <td>ABC</td>\n",
       "      <td>40</td>\n",
       "    </tr>\n",
       "  </tbody>\n",
       "</table>\n",
       "</div>"
      ],
      "text/plain": [
       "   name age\n",
       "0  Cara  25\n",
       "1   ABC  40"
      ]
     },
     "execution_count": 7,
     "metadata": {},
     "output_type": "execute_result"
    }
   ],
   "source": [
    "Dict_df = pd.DataFrame(Dict).transpose()\n",
    "\n",
    "Dict_df"
   ]
  },
  {
   "cell_type": "markdown",
   "metadata": {},
   "source": [
    "# 2. Data Cleaning\n",
    "1. All Data Type: replace an empty string and records with only spaces\n",
    "2. Object Data Type: trim string\n",
    "3. Numeric Data Type: non-numeric convert to na"
   ]
  },
  {
   "cell_type": "code",
   "execution_count": 8,
   "metadata": {},
   "outputs": [],
   "source": [
    "def Data_Cleaning(_df_):\n",
    "    \n",
    "    # Create copy\n",
    "    df = _df_.copy()\n",
    "    \n",
    "    # 1. For all date type:\n",
    "    # Replace an empty string and records with only spaces\n",
    "    df.replace(r'^\\s*$', np.nan, regex=True, inplace = True)\n",
    "    \n",
    "    # 2. Object data type\n",
    "    obj_col = df.select_dtypes(['object']).columns\n",
    "    print('*** Object coloumn include:',obj_col)\n",
    "    # Trim string\n",
    "    df[obj_col] = df[obj_col].apply(lambda x: x.str.strip())\n",
    "    # Fill n.a. as \"Missing\"\n",
    "    df[obj_col] = df[obj_col].fillna('Missing', inplace=False)\n",
    "        \n",
    "    # 3. Numeric data type\n",
    "    num_col = df.select_dtypes(['number']).columns  \n",
    "    print('*** Numeric coloumn include:',num_col)\n",
    "    # Invalid value as np.nan')\n",
    "    df[num_col] = df[num_col].apply(pd.to_numeric, errors='coerce')\n",
    "    \n",
    "    print('----- Data Cleaning Finish -----')\n",
    "    \n",
    "    return df"
   ]
  },
  {
   "cell_type": "code",
   "execution_count": 9,
   "metadata": {},
   "outputs": [
    {
     "name": "stdout",
     "output_type": "stream",
     "text": [
      "*** Object coloumn include: Index(['insurance_type'], dtype='object')\n",
      "*** Numeric coloumn include: Index(['age', 'income'], dtype='object')\n",
      "----- Data Cleaning Finish -----\n",
      "Column value after data cleaning:\n",
      "OP         22\n",
      "INP        20\n",
      "TR          6\n",
      "Missing     2\n",
      "Name: insurance_type, dtype: int64\n"
     ]
    }
   ],
   "source": [
    "df = Data_Cleaning(df)\n",
    "\n",
    "# checking function is work\n",
    "print('Column value after data cleaning:')\n",
    "print(df.insurance_type.value_counts())"
   ]
  },
  {
   "cell_type": "markdown",
   "metadata": {},
   "source": [
    "# 3. Data Processing"
   ]
  },
  {
   "cell_type": "markdown",
   "metadata": {},
   "source": [
    "## 3.1 Data Selection"
   ]
  },
  {
   "cell_type": "markdown",
   "metadata": {},
   "source": [
    "#### Select column(s) by data type"
   ]
  },
  {
   "cell_type": "code",
   "execution_count": 10,
   "metadata": {},
   "outputs": [
    {
     "name": "stdout",
     "output_type": "stream",
     "text": [
      "obj_col: Index(['insurance_type'], dtype='object')\n",
      "num_col: Index(['age', 'income'], dtype='object')\n",
      "date_col: Index(['date'], dtype='object')\n"
     ]
    }
   ],
   "source": [
    "obj_col = df.select_dtypes(['object','category']).columns\n",
    "num_col = df.select_dtypes(['number']).columns\n",
    "date_col= df.select_dtypes(['datetime']).columns\n",
    "\n",
    "print('obj_col:',obj_col)\n",
    "print('num_col:',num_col)\n",
    "print('date_col:',date_col)"
   ]
  },
  {
   "cell_type": "markdown",
   "metadata": {},
   "source": [
    "#### Select by row index and column name"
   ]
  },
  {
   "cell_type": "code",
   "execution_count": 11,
   "metadata": {},
   "outputs": [
    {
     "data": {
      "text/plain": [
       "Timestamp('2020-11-07 00:00:00')"
      ]
     },
     "execution_count": 11,
     "metadata": {},
     "output_type": "execute_result"
    }
   ],
   "source": [
    "df.iloc[0]['date']"
   ]
  },
  {
   "cell_type": "markdown",
   "metadata": {},
   "source": [
    "#### Select by date range"
   ]
  },
  {
   "cell_type": "code",
   "execution_count": 12,
   "metadata": {},
   "outputs": [
    {
     "data": {
      "text/html": [
       "<div>\n",
       "<style scoped>\n",
       "    .dataframe tbody tr th:only-of-type {\n",
       "        vertical-align: middle;\n",
       "    }\n",
       "\n",
       "    .dataframe tbody tr th {\n",
       "        vertical-align: top;\n",
       "    }\n",
       "\n",
       "    .dataframe thead th {\n",
       "        text-align: right;\n",
       "    }\n",
       "</style>\n",
       "<table border=\"1\" class=\"dataframe\">\n",
       "  <thead>\n",
       "    <tr style=\"text-align: right;\">\n",
       "      <th></th>\n",
       "      <th>insurance_type</th>\n",
       "      <th>date</th>\n",
       "      <th>age</th>\n",
       "      <th>income</th>\n",
       "    </tr>\n",
       "  </thead>\n",
       "  <tbody>\n",
       "    <tr>\n",
       "      <th>21</th>\n",
       "      <td>OP</td>\n",
       "      <td>2019-01-16</td>\n",
       "      <td>24</td>\n",
       "      <td>38231.313270</td>\n",
       "    </tr>\n",
       "    <tr>\n",
       "      <th>38</th>\n",
       "      <td>INP</td>\n",
       "      <td>2019-01-26</td>\n",
       "      <td>91</td>\n",
       "      <td>26556.112133</td>\n",
       "    </tr>\n",
       "  </tbody>\n",
       "</table>\n",
       "</div>"
      ],
      "text/plain": [
       "   insurance_type       date  age        income\n",
       "21             OP 2019-01-16   24  38231.313270\n",
       "38            INP 2019-01-26   91  26556.112133"
      ]
     },
     "execution_count": 12,
     "metadata": {},
     "output_type": "execute_result"
    }
   ],
   "source": [
    "start_date = '2019-01-16'\n",
    "end_date = '2019-02-01'\n",
    "\n",
    "mask = (df['date'] >= start_date) & (df['date'] <= end_date)\n",
    "\n",
    "# subset_df: 1 py_id & filter date range\n",
    "subset_df = df.loc[mask]\n",
    "\n",
    "subset_df"
   ]
  },
  {
   "cell_type": "markdown",
   "metadata": {},
   "source": [
    "#### Select specified row/column pair (cell)\n",
    "\n",
    "    Can assign value (e.g. df.at[20, 'age'] = 3)"
   ]
  },
  {
   "cell_type": "code",
   "execution_count": 13,
   "metadata": {},
   "outputs": [
    {
     "data": {
      "text/plain": [
       "Timestamp('2018-04-10 00:00:00')"
      ]
     },
     "execution_count": 13,
     "metadata": {},
     "output_type": "execute_result"
    }
   ],
   "source": [
    "df.at[20, 'date']"
   ]
  },
  {
   "cell_type": "markdown",
   "metadata": {},
   "source": [
    "## 3.2 Data Manipulation"
   ]
  },
  {
   "cell_type": "markdown",
   "metadata": {},
   "source": [
    "#### Sorting by Column Value"
   ]
  },
  {
   "cell_type": "code",
   "execution_count": 14,
   "metadata": {},
   "outputs": [
    {
     "name": "stdout",
     "output_type": "stream",
     "text": [
      "  insurance_type       date  age        income\n",
      "0            INP 2018-01-03   93  27808.592913\n",
      "1             TR 2018-02-09   82  53057.428799\n",
      "2             OP 2018-02-17    6  45226.600720\n",
      "3             OP 2018-02-21   54           NaN\n",
      "4            INP 2018-03-15   10  42375.490333\n"
     ]
    }
   ],
   "source": [
    "df.sort_values(['date','age'], axis=0, ascending=[True, True], inplace=True, ignore_index=True)\n",
    "\n",
    "print(df.head())"
   ]
  },
  {
   "cell_type": "markdown",
   "metadata": {},
   "source": [
    "#### Rename Column"
   ]
  },
  {
   "cell_type": "code",
   "execution_count": 15,
   "metadata": {},
   "outputs": [
    {
     "name": "stdout",
     "output_type": "stream",
     "text": [
      "  insurance_type   datedate  ageageage        income\n",
      "0            INP 2018-01-03         93  27808.592913\n",
      "1             TR 2018-02-09         82  53057.428799\n",
      "2             OP 2018-02-17          6  45226.600720\n",
      "3             OP 2018-02-21         54           NaN\n",
      "4            INP 2018-03-15         10  42375.490333\n"
     ]
    }
   ],
   "source": [
    "df_1 = df.copy()\n",
    "df_1.rename(columns={'age': 'ageageage', 'date': 'datedate'}, inplace=True)\n",
    "\n",
    "print(df_1.head())"
   ]
  },
  {
   "cell_type": "markdown",
   "metadata": {},
   "source": [
    "#### Drop Column"
   ]
  },
  {
   "cell_type": "code",
   "execution_count": 16,
   "metadata": {},
   "outputs": [
    {
     "name": "stdout",
     "output_type": "stream",
     "text": [
      "  insurance_type       date  age        income\n",
      "0            INP 2018-01-03   93  27808.592913\n",
      "1             TR 2018-02-09   82  53057.428799\n",
      "2             OP 2018-02-17    6  45226.600720\n",
      "3             OP 2018-02-21   54           NaN\n",
      "4            INP 2018-03-15   10  42375.490333\n"
     ]
    }
   ],
   "source": [
    "df_2 = df.copy()\n",
    "df_2.drop(['insurance_type', 'date'], axis=1, inplace=True)\n",
    "\n",
    "print(df.head())"
   ]
  },
  {
   "cell_type": "markdown",
   "metadata": {},
   "source": [
    "#### Filter by Column Value"
   ]
  },
  {
   "cell_type": "code",
   "execution_count": 17,
   "metadata": {},
   "outputs": [
    {
     "name": "stdout",
     "output_type": "stream",
     "text": [
      "   insurance_type       date  age        income\n",
      "0             INP 2018-01-03   93  27808.592913\n",
      "10            INP 2018-04-24   93  59376.859539\n",
      "19             TR 2019-01-07   99  40182.377797\n",
      "21            INP 2019-01-26   91  26556.112133\n",
      "38            INP 2020-04-06   91           NaN\n",
      "----------------------\n",
      "(6, 4)\n"
     ]
    }
   ],
   "source": [
    "df_3 = df[df.age > 90]\n",
    "\n",
    "print(df_3.head())\n",
    "print('----------------------')\n",
    "print(df_3.shape)"
   ]
  },
  {
   "cell_type": "markdown",
   "metadata": {},
   "source": [
    "#### Drop Duplicates"
   ]
  },
  {
   "cell_type": "code",
   "execution_count": 18,
   "metadata": {},
   "outputs": [
    {
     "name": "stdout",
     "output_type": "stream",
     "text": [
      "  insurance_type       date  age        income\n",
      "1             TR 2018-02-09   82  53057.428799\n",
      "2             OP 2018-02-17    6  45226.600720\n",
      "3             OP 2018-02-21   54           NaN\n",
      "4            INP 2018-03-15   10  42375.490333\n",
      "5             TR 2018-04-07   83  44105.435919\n",
      "----------------------\n",
      "(46, 4)\n"
     ]
    }
   ],
   "source": [
    "df_4 = df.copy()\n",
    "df_4.drop_duplicates(subset=['insurance_type','age'], keep='last',inplace=True)\n",
    "\n",
    "print(df_4.head())\n",
    "print('----------------------')\n",
    "print(df_4.shape)"
   ]
  },
  {
   "cell_type": "markdown",
   "metadata": {},
   "source": [
    "#### Value Counts"
   ]
  },
  {
   "cell_type": "code",
   "execution_count": 19,
   "metadata": {},
   "outputs": [
    {
     "name": "stdout",
     "output_type": "stream",
     "text": [
      "OP         22\n",
      "INP        20\n",
      "TR          6\n",
      "Missing     2\n",
      "Name: insurance_type, dtype: int64\n",
      "----------------------\n",
      "OP         0.44\n",
      "INP        0.40\n",
      "TR         0.12\n",
      "Missing    0.04\n",
      "Name: insurance_type, dtype: float64\n"
     ]
    }
   ],
   "source": [
    "print(df['insurance_type'].value_counts(normalize=False,dropna=False))\n",
    "print('----------------------')\n",
    "print(df['insurance_type'].value_counts(normalize=True,dropna=False))"
   ]
  },
  {
   "cell_type": "markdown",
   "metadata": {},
   "source": [
    "#### Replace String in Column"
   ]
  },
  {
   "cell_type": "code",
   "execution_count": 20,
   "metadata": {},
   "outputs": [
    {
     "name": "stdout",
     "output_type": "stream",
     "text": [
      "OPat       0.44\n",
      "INPat      0.40\n",
      "TR         0.12\n",
      "Missing    0.04\n",
      "Name: insurance_type, dtype: float64\n"
     ]
    }
   ],
   "source": [
    "df_5 = df.copy()\n",
    "\n",
    "df_5['insurance_type'] = df_5['insurance_type'].astype(str).str.replace('P', 'Pat')\n",
    "\n",
    "print(df_5['insurance_type'].value_counts(normalize=True,dropna=False))"
   ]
  },
  {
   "cell_type": "markdown",
   "metadata": {},
   "source": [
    "#### Create New Column Based on Another Column Value"
   ]
  },
  {
   "cell_type": "code",
   "execution_count": 21,
   "metadata": {},
   "outputs": [
    {
     "name": "stdout",
     "output_type": "stream",
     "text": [
      "  insurance_type       date  age        income is_medical\n",
      "0            INP 2018-01-03   93  27808.592913          1\n",
      "1             TR 2018-02-09   82  53057.428799          0\n",
      "2             OP 2018-02-17    6  45226.600720          1\n",
      "3             OP 2018-02-21   54           NaN          1\n",
      "4            INP 2018-03-15   10  42375.490333          1\n",
      "----------------------\n",
      "1    0.84\n",
      "0    0.16\n",
      "Name: is_medical, dtype: float64\n"
     ]
    }
   ],
   "source": [
    "df_6 = df.copy()\n",
    "\n",
    "df_6['is_medical'] = np.where(df_6['insurance_type'].isin(['OP','INP']), '1', '0')\n",
    "\n",
    "print(df_6.head())\n",
    "print('----------------------')\n",
    "print(df_6['is_medical'].value_counts(normalize=True,dropna=False))"
   ]
  },
  {
   "cell_type": "markdown",
   "metadata": {},
   "source": [
    "#### Return Index Based on Column Value"
   ]
  },
  {
   "cell_type": "code",
   "execution_count": 22,
   "metadata": {},
   "outputs": [
    {
     "name": "stdout",
     "output_type": "stream",
     "text": [
      "----------------------\n",
      "age_index_list:\n",
      "[0, 1, 5, 9, 10, 16, 17, 19, 21, 23, 31, 37, 38, 40, 43, 47]\n",
      "----------------------\n",
      "income_index_list:\n",
      "[1, 2, 6, 7, 9, 10, 12, 15, 16, 17, 18, 23, 24, 25, 26, 28, 29, 32, 33, 34, 37, 40, 41, 43, 44, 45, 46, 48]\n"
     ]
    }
   ],
   "source": [
    "age_index_list = df.index[df['age'] > 80].tolist()\n",
    "income_index_list = df.index[df['income'] > 45000].tolist()\n",
    "\n",
    "print('----------------------')\n",
    "print('age_index_list:')\n",
    "print(age_index_list)\n",
    "\n",
    "print('----------------------')\n",
    "print('income_index_list:')\n",
    "print(income_index_list)"
   ]
  },
  {
   "cell_type": "markdown",
   "metadata": {},
   "source": [
    "#### Combine DataFrame (Append Column)"
   ]
  },
  {
   "cell_type": "code",
   "execution_count": 23,
   "metadata": {},
   "outputs": [],
   "source": [
    "# column name of \"left table\"\n",
    "left_col = ['a','b','c']\n",
    "# column name of \"right table\"\n",
    "right_col = ['aa','bb','cc']\n",
    "\n",
    "# joined_df = pd.merge(df1, df2, how='left', left_on=left_col, right_on=right_col)"
   ]
  },
  {
   "cell_type": "markdown",
   "metadata": {},
   "source": [
    "#### Append Dataframe (Append Row)\n",
    "\n",
    "    Same Column Name: Append\n",
    "\n",
    "    Different Column Name: New Column"
   ]
  },
  {
   "cell_type": "code",
   "execution_count": 24,
   "metadata": {},
   "outputs": [],
   "source": [
    "# df = pd.concat([df1, df2],ignore_index=True)"
   ]
  },
  {
   "cell_type": "markdown",
   "metadata": {},
   "source": [
    "# 4. Custom Function"
   ]
  },
  {
   "cell_type": "markdown",
   "metadata": {},
   "source": [
    "#### Create New Column Based on Conditional Column Value\n",
    "\n",
    "    Create Empty 2D List\n",
    "\n",
    "    Assign Value in Empty 2D List by Append Method\n",
    "\n",
    "    Replace String"
   ]
  },
  {
   "cell_type": "code",
   "execution_count": 25,
   "metadata": {},
   "outputs": [
    {
     "name": "stdout",
     "output_type": "stream",
     "text": [
      "First 5 element in list_2D:\n",
      "[['age more than 80'], ['age more than 80', 'income more than 45000'], ['income more than 45000'], [], []]\n",
      "----------------------\n",
      "Assign list_2D as DF column:\n"
     ]
    },
    {
     "data": {
      "text/html": [
       "<div>\n",
       "<style scoped>\n",
       "    .dataframe tbody tr th:only-of-type {\n",
       "        vertical-align: middle;\n",
       "    }\n",
       "\n",
       "    .dataframe tbody tr th {\n",
       "        vertical-align: top;\n",
       "    }\n",
       "\n",
       "    .dataframe thead th {\n",
       "        text-align: right;\n",
       "    }\n",
       "</style>\n",
       "<table border=\"1\" class=\"dataframe\">\n",
       "  <thead>\n",
       "    <tr style=\"text-align: right;\">\n",
       "      <th></th>\n",
       "      <th>insurance_type</th>\n",
       "      <th>date</th>\n",
       "      <th>age</th>\n",
       "      <th>income</th>\n",
       "      <th>new_col</th>\n",
       "    </tr>\n",
       "  </thead>\n",
       "  <tbody>\n",
       "    <tr>\n",
       "      <th>0</th>\n",
       "      <td>INP</td>\n",
       "      <td>2018-01-03</td>\n",
       "      <td>93</td>\n",
       "      <td>27808.592913</td>\n",
       "      <td>age more than 80</td>\n",
       "    </tr>\n",
       "    <tr>\n",
       "      <th>1</th>\n",
       "      <td>TR</td>\n",
       "      <td>2018-02-09</td>\n",
       "      <td>82</td>\n",
       "      <td>53057.428799</td>\n",
       "      <td>age more than 80, income more than 45000</td>\n",
       "    </tr>\n",
       "    <tr>\n",
       "      <th>2</th>\n",
       "      <td>OP</td>\n",
       "      <td>2018-02-17</td>\n",
       "      <td>6</td>\n",
       "      <td>45226.600720</td>\n",
       "      <td>income more than 45000</td>\n",
       "    </tr>\n",
       "    <tr>\n",
       "      <th>3</th>\n",
       "      <td>OP</td>\n",
       "      <td>2018-02-21</td>\n",
       "      <td>54</td>\n",
       "      <td>NaN</td>\n",
       "      <td>NaN</td>\n",
       "    </tr>\n",
       "    <tr>\n",
       "      <th>4</th>\n",
       "      <td>INP</td>\n",
       "      <td>2018-03-15</td>\n",
       "      <td>10</td>\n",
       "      <td>42375.490333</td>\n",
       "      <td>NaN</td>\n",
       "    </tr>\n",
       "    <tr>\n",
       "      <th>5</th>\n",
       "      <td>TR</td>\n",
       "      <td>2018-04-07</td>\n",
       "      <td>83</td>\n",
       "      <td>44105.435919</td>\n",
       "      <td>age more than 80</td>\n",
       "    </tr>\n",
       "    <tr>\n",
       "      <th>6</th>\n",
       "      <td>INP</td>\n",
       "      <td>2018-04-10</td>\n",
       "      <td>79</td>\n",
       "      <td>64164.758508</td>\n",
       "      <td>income more than 45000</td>\n",
       "    </tr>\n",
       "    <tr>\n",
       "      <th>7</th>\n",
       "      <td>INP</td>\n",
       "      <td>2018-04-17</td>\n",
       "      <td>16</td>\n",
       "      <td>64631.354824</td>\n",
       "      <td>income more than 45000</td>\n",
       "    </tr>\n",
       "    <tr>\n",
       "      <th>8</th>\n",
       "      <td>INP</td>\n",
       "      <td>2018-04-17</td>\n",
       "      <td>40</td>\n",
       "      <td>33798.199209</td>\n",
       "      <td>NaN</td>\n",
       "    </tr>\n",
       "    <tr>\n",
       "      <th>9</th>\n",
       "      <td>OP</td>\n",
       "      <td>2018-04-22</td>\n",
       "      <td>88</td>\n",
       "      <td>51809.046069</td>\n",
       "      <td>age more than 80, income more than 45000</td>\n",
       "    </tr>\n",
       "  </tbody>\n",
       "</table>\n",
       "</div>"
      ],
      "text/plain": [
       "  insurance_type       date  age        income  \\\n",
       "0            INP 2018-01-03   93  27808.592913   \n",
       "1             TR 2018-02-09   82  53057.428799   \n",
       "2             OP 2018-02-17    6  45226.600720   \n",
       "3             OP 2018-02-21   54           NaN   \n",
       "4            INP 2018-03-15   10  42375.490333   \n",
       "5             TR 2018-04-07   83  44105.435919   \n",
       "6            INP 2018-04-10   79  64164.758508   \n",
       "7            INP 2018-04-17   16  64631.354824   \n",
       "8            INP 2018-04-17   40  33798.199209   \n",
       "9             OP 2018-04-22   88  51809.046069   \n",
       "\n",
       "                                    new_col  \n",
       "0                          age more than 80  \n",
       "1  age more than 80, income more than 45000  \n",
       "2                    income more than 45000  \n",
       "3                                       NaN  \n",
       "4                                       NaN  \n",
       "5                          age more than 80  \n",
       "6                    income more than 45000  \n",
       "7                    income more than 45000  \n",
       "8                                       NaN  \n",
       "9  age more than 80, income more than 45000  "
      ]
     },
     "execution_count": 25,
     "metadata": {},
     "output_type": "execute_result"
    }
   ],
   "source": [
    "list_2D = [[] for _ in range(len(df))]\n",
    "\n",
    "age_index_list = df.index[df['age'] > 80].tolist()\n",
    "income_index_list = df.index[df['income'] > 45000].tolist()\n",
    "\n",
    "for i in age_index_list:\n",
    "    list_2D[i].append('age more than 80')\n",
    "\n",
    "for i in income_index_list:\n",
    "    list_2D[i].append('income more than 45000')\n",
    "    \n",
    "print('First 5 element in list_2D:')\n",
    "print(list_2D[0:5])\n",
    "print('----------------------')\n",
    "print('Assign list_2D as DF column:')\n",
    "df['new_col'] = list_2D\n",
    "# df['new_col'] = df['new_col'].astype(str).replace('[]', np.nan).str.replace('[', '').str.replace(']', '').str.replace(\"'\", '')\n",
    "\n",
    "df['new_col'] = df['new_col'].astype(str).replace('[]', np.nan).str.replace('[', '').str.replace(']', '').str.replace(\"'\", '')\n",
    "\n",
    "\n",
    "df.head(10)"
   ]
  },
  {
   "cell_type": "markdown",
   "metadata": {},
   "source": [
    "#### Split DataFrame by Column"
   ]
  },
  {
   "cell_type": "code",
   "execution_count": 26,
   "metadata": {},
   "outputs": [
    {
     "name": "stdout",
     "output_type": "stream",
     "text": [
      "*** fea_df ***\n",
      "  insurance_type  age\n",
      "0            INP   93\n",
      "1             TR   82\n",
      "2             OP    6\n",
      "3             OP   54\n",
      "4            INP   10\n",
      "----------------------\n",
      "*** non_fea_df ***\n",
      "        date        income                                   new_col\n",
      "0 2018-01-03  27808.592913                          age more than 80\n",
      "1 2018-02-09  53057.428799  age more than 80, income more than 45000\n",
      "2 2018-02-17  45226.600720                    income more than 45000\n",
      "3 2018-02-21           NaN                                       NaN\n",
      "4 2018-03-15  42375.490333                                       NaN\n"
     ]
    }
   ],
   "source": [
    "feature_list = ['insurance_type','age']\n",
    "\n",
    "fea_df = df[feature_list]\n",
    "non_fea_df = df.drop(feature_list, axis=1, inplace=False)\n",
    "\n",
    "print('*** fea_df ***')\n",
    "print(fea_df.head())\n",
    "print('----------------------')\n",
    "print('*** non_fea_df ***')\n",
    "print(non_fea_df.head())"
   ]
  },
  {
   "cell_type": "code",
   "execution_count": null,
   "metadata": {},
   "outputs": [],
   "source": []
  },
  {
   "cell_type": "code",
   "execution_count": null,
   "metadata": {},
   "outputs": [],
   "source": []
  }
 ],
 "metadata": {
  "kernelspec": {
   "display_name": "Python 3",
   "language": "python",
   "name": "python3"
  },
  "language_info": {
   "codemirror_mode": {
    "name": "ipython",
    "version": 3
   },
   "file_extension": ".py",
   "mimetype": "text/x-python",
   "name": "python",
   "nbconvert_exporter": "python",
   "pygments_lexer": "ipython3",
   "version": "3.7.6"
  }
 },
 "nbformat": 4,
 "nbformat_minor": 4
}
